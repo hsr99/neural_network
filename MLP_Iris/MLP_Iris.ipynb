{
  "nbformat": 4,
  "nbformat_minor": 0,
  "metadata": {
    "colab": {
      "name": "Untitled5.ipynb",
      "provenance": []
    },
    "kernelspec": {
      "name": "python3",
      "display_name": "Python 3"
    }
  },
  "cells": [
    {
      "cell_type": "markdown",
      "metadata": {
        "id": "NC7eubPQmWOq"
      },
      "source": [
        "# **MLP for Iris dataset - multi-class problem**"
      ]
    },
    {
      "cell_type": "code",
      "metadata": {
        "id": "sKjCl1twmU8E",
        "colab": {
          "base_uri": "https://localhost:8080/"
        },
        "outputId": "2b4a5792-16dc-47d3-9e49-e91e99281e9e"
      },
      "source": [
        "!git clone https://github.com/deepanrajm/deep_learning.git"
      ],
      "execution_count": 8,
      "outputs": [
        {
          "output_type": "stream",
          "name": "stdout",
          "text": [
            "fatal: destination path 'deep_learning' already exists and is not an empty directory.\n"
          ]
        }
      ]
    },
    {
      "cell_type": "code",
      "metadata": {
        "id": "hVV34Zg2mTis",
        "colab": {
          "base_uri": "https://localhost:8080/"
        },
        "outputId": "350224e1-179f-45a2-8128-14bb01c08cc6"
      },
      "source": [
        "!ls"
      ],
      "execution_count": 9,
      "outputs": [
        {
          "output_type": "stream",
          "name": "stdout",
          "text": [
            "deep_learning  sample_data\n"
          ]
        }
      ]
    },
    {
      "cell_type": "markdown",
      "metadata": {
        "id": "EGD29u_ImvJO"
      },
      "source": [
        "**Import Packages**"
      ]
    },
    {
      "cell_type": "code",
      "metadata": {
        "id": "-P6U-cRVms8_"
      },
      "source": [
        "import numpy\n",
        "from pandas import read_csv\n",
        "from keras.models import Sequential\n",
        "from keras.layers import Dense\n",
        "from keras.wrappers.scikit_learn import KerasClassifier\n",
        "from keras.utils import np_utils\n",
        "from sklearn.model_selection import cross_val_score\n",
        "from sklearn.model_selection import KFold\n",
        "from sklearn.preprocessing import LabelEncoder\n",
        "from sklearn.pipeline import Pipeline"
      ],
      "execution_count": 10,
      "outputs": []
    },
    {
      "cell_type": "code",
      "metadata": {
        "id": "Mp_ukB8wm0vu"
      },
      "source": [
        "seed = 7\n",
        "numpy.random.seed(seed)"
      ],
      "execution_count": 20,
      "outputs": []
    },
    {
      "cell_type": "markdown",
      "metadata": {
        "id": "gCBQzg_dm5w3"
      },
      "source": [
        "**Loading and Splitting input and output**"
      ]
    },
    {
      "cell_type": "code",
      "metadata": {
        "id": "bqdmvRu0m-LL"
      },
      "source": [
        "dataframe = read_csv(\"deep_learning/MLP_Iris/iris.csv\", header=None)\n",
        "dataset = dataframe.values\n",
        "X = dataset[:,0:4].astype(float) #all rows first 4 columns\n",
        "Y = dataset[:,4]"
      ],
      "execution_count": 12,
      "outputs": []
    },
    {
      "cell_type": "markdown",
      "metadata": {
        "id": "fMa-sno4nJbi"
      },
      "source": [
        "**encode class values as integers**"
      ]
    },
    {
      "cell_type": "code",
      "metadata": {
        "id": "y-zNL-ZhnM4_"
      },
      "source": [
        "encoder = LabelEncoder()\n",
        "encoder.fit(Y)\n",
        "encoded_Y = encoder.transform(Y)\n",
        "dummy_y = np_utils.to_categorical(encoded_Y)"
      ],
      "execution_count": 13,
      "outputs": []
    },
    {
      "cell_type": "markdown",
      "metadata": {
        "id": "JYF7HayZnYRj"
      },
      "source": [
        "**define baseline model**"
      ]
    },
    {
      "cell_type": "code",
      "metadata": {
        "id": "vIz0trc0nYCE"
      },
      "source": [
        "def baseline_model():\n",
        "\t# create model\n",
        "\tmodel = Sequential()\n",
        "\tmodel.add(Dense(12, input_dim=4, activation='relu'))\n",
        "\tmodel.add(Dense(6,  activation='relu'))\n",
        "\tmodel.add(Dense(3, activation='sigmoid'))\n",
        "\n",
        "\t# Compile model\n",
        "\tmodel.compile(loss='categorical_crossentropy', optimizer='adam', metrics=['accuracy'])\n",
        "\treturn model"
      ],
      "execution_count": 21,
      "outputs": []
    },
    {
      "cell_type": "markdown",
      "metadata": {
        "id": "CRmQyH_jnfWh"
      },
      "source": [
        "**Kfold Validation**"
      ]
    },
    {
      "cell_type": "code",
      "metadata": {
        "id": "cYUwjiOdniMq",
        "colab": {
          "base_uri": "https://localhost:8080/"
        },
        "outputId": "fcdec820-120b-4b47-d319-89891abafe62"
      },
      "source": [
        "estimator = KerasClassifier(build_fn=baseline_model, nb_epoch=100, batch_size=10)\n",
        "kfold = KFold(n_splits=10, shuffle=True, random_state=seed) #cross validation\n",
        "results = cross_val_score(estimator, X, dummy_y, cv=kfold)\n",
        "print(\"Accuracy: %.2f%% (%.2f%%)\" % (results.mean()*100, results.std()*100))\n"
      ],
      "execution_count": 22,
      "outputs": [
        {
          "output_type": "stream",
          "name": "stderr",
          "text": [
            "<ipython-input-22-8f6d98e449f9>:1: DeprecationWarning: KerasClassifier is deprecated, use Sci-Keras (https://github.com/adriangb/scikeras) instead. See https://www.adriangb.com/scikeras/stable/migration.html for help migrating.\n",
            "  estimator = KerasClassifier(build_fn=baseline_model, nb_epoch=100, batch_size=10)\n"
          ]
        },
        {
          "output_type": "stream",
          "name": "stdout",
          "text": [
            "14/14 [==============================] - 0s 2ms/step - loss: 1.3335 - accuracy: 0.2370\n",
            "2/2 [==============================] - 0s 6ms/step - loss: 1.1003 - accuracy: 0.4667\n",
            "14/14 [==============================] - 0s 2ms/step - loss: 3.9212 - accuracy: 0.3111\n",
            "2/2 [==============================] - 0s 6ms/step - loss: 1.7739 - accuracy: 0.5333\n",
            "14/14 [==============================] - 0s 2ms/step - loss: 1.5694 - accuracy: 0.6741\n",
            "2/2 [==============================] - 0s 7ms/step - loss: 1.6704 - accuracy: 0.6000\n",
            "14/14 [==============================] - 0s 2ms/step - loss: 1.6492 - accuracy: 0.2815\n",
            "2/2 [==============================] - 0s 6ms/step - loss: 1.2303 - accuracy: 0.5333\n",
            "14/14 [==============================] - 0s 2ms/step - loss: 2.8386 - accuracy: 0.3259\n",
            "2/2 [==============================] - 0s 5ms/step - loss: 2.0549 - accuracy: 0.4000\n",
            "14/14 [==============================] - 0s 2ms/step - loss: 1.4646 - accuracy: 0.3259\n",
            "2/2 [==============================] - 0s 7ms/step - loss: 1.2818 - accuracy: 0.4000\n",
            "14/14 [==============================] - 0s 2ms/step - loss: 1.3262 - accuracy: 0.1111\n",
            "2/2 [==============================] - 0s 6ms/step - loss: 1.1745 - accuracy: 0.3333\n",
            "14/14 [==============================] - 0s 2ms/step - loss: 1.0878 - accuracy: 0.3333\n",
            "2/2 [==============================] - 0s 6ms/step - loss: 1.0772 - accuracy: 0.3333\n",
            "14/14 [==============================] - 0s 2ms/step - loss: 1.2441 - accuracy: 0.0148\n",
            "2/2 [==============================] - 0s 6ms/step - loss: 1.3178 - accuracy: 0.2667\n",
            "14/14 [==============================] - 1s 2ms/step - loss: 2.4840 - accuracy: 0.3259\n",
            "2/2 [==============================] - 0s 6ms/step - loss: 1.8499 - accuracy: 0.4000\n",
            "Accuracy: 42.67% (9.98%)\n"
          ]
        }
      ]
    },
    {
      "cell_type": "code",
      "source": [],
      "metadata": {
        "id": "yTrbTrqYad8U"
      },
      "execution_count": null,
      "outputs": []
    }
  ]
}